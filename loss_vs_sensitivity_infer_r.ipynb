{
  "nbformat": 4,
  "nbformat_minor": 0,
  "metadata": {
    "colab": {
      "provenance": [],
      "authorship_tag": "ABX9TyMYZR72M+mPdef/wyFYnvgM",
      "include_colab_link": true
    },
    "kernelspec": {
      "name": "python3",
      "display_name": "Python 3"
    },
    "language_info": {
      "name": "python"
    }
  },
  "cells": [
    {
      "cell_type": "markdown",
      "metadata": {
        "id": "view-in-github",
        "colab_type": "text"
      },
      "source": [
        "<a href=\"https://colab.research.google.com/github/RhysWangJunfei/lmp/blob/main/loss_vs_sensitivity_infer_r.ipynb\" target=\"_parent\"><img src=\"https://colab.research.google.com/assets/colab-badge.svg\" alt=\"Open In Colab\"/></a>"
      ]
    },
    {
      "cell_type": "code",
      "source": [
        "from scipy.io import loadmat\n",
        "# pip install scipy\n",
        "import numpy as np\n",
        "from scipy.optimize import lsq_linear\n",
        "pf_list = loadmat('/content/bus118_pf.mat')['pf_list']\n",
        "loss_list = loadmat('/content/bus118_loss.mat')['loss_list']\n",
        "branch = loadmat('/content/mpc_branch_118.mat')['mpc_branch_118']"
      ],
      "metadata": {
        "id": "rKXiKGGuGiLY"
      },
      "execution_count": null,
      "outputs": []
    },
    {
      "cell_type": "code",
      "source": [
        "A = np.square(pf_list/100)\n",
        "b=np.sum(loss_list/100,axis=-1)"
      ],
      "metadata": {
        "id": "gCBG623GG-w7"
      },
      "execution_count": null,
      "outputs": []
    },
    {
      "cell_type": "code",
      "source": [
        "A.shape"
      ],
      "metadata": {
        "colab": {
          "base_uri": "https://localhost:8080/"
        },
        "id": "afqKvh4JBvg8",
        "outputId": "6dd072d6-26fb-4acc-a534-319134e62636"
      },
      "execution_count": null,
      "outputs": [
        {
          "output_type": "execute_result",
          "data": {
            "text/plain": [
              "(14850, 186)"
            ]
          },
          "metadata": {},
          "execution_count": 67
        }
      ]
    },
    {
      "cell_type": "code",
      "source": [
        "\n",
        "# Enforce x >= 0 componentwise\n",
        "power_loss = b\n",
        "true_pf_square=A\n",
        "res = lsq_linear(A, b, bounds=(0.0, np.inf))\n",
        "x = res.x\n",
        "print(\"x (nonnegative) =\", x)\n",
        "print(\"residual norm   =\", np.linalg.norm(A@x - b))"
      ],
      "metadata": {
        "colab": {
          "base_uri": "https://localhost:8080/"
        },
        "id": "jwFgz1MpEgoy",
        "outputId": "6dd193f6-af46-4ef3-9eea-fa8a45326a9e"
      },
      "execution_count": null,
      "outputs": [
        {
          "output_type": "stream",
          "name": "stdout",
          "text": [
            "x (nonnegative) = [4.10362740e-02 1.28993539e-02 2.16403456e-03 2.38065702e-02\n",
            " 1.02017587e-02 4.30116116e-03 2.58807266e-15 4.88507511e-04\n",
            " 4.37439923e-15 3.64345314e-02 6.78316761e-03 5.75539696e-03\n",
            " 1.82957151e-02 2.77184572e-02 4.82506856e-03 2.16834855e-02\n",
            " 2.16865564e-02 7.48510136e-02 7.79881022e-02 2.05399429e-02\n",
            " 1.28215647e-02 4.73164102e-02 1.23009726e-02 1.22353200e-02\n",
            " 2.16507748e-02 1.27991124e-02 1.59775344e-02 2.25834972e-02\n",
            " 3.21015205e-02 1.00030752e-02 2.09146648e-02 1.00353352e-02\n",
            " 4.01532527e-02 2.05245458e-02 2.53742421e-02 8.93631494e-32\n",
            " 3.79897676e-04 1.99177128e-02 4.43887460e-02 1.22919658e-02\n",
            " 3.02444486e-02 2.87089528e-02 1.89147152e-02 3.24618771e-02\n",
            " 9.49281758e-02 4.66669417e-03 6.08810204e-03 3.67881672e-02\n",
            " 9.55684114e-03 1.53654849e-03 6.69975073e-11 3.26484115e-02\n",
            " 5.41766120e-02 4.55904133e-03 2.25687053e-02 1.58582861e-02\n",
            " 4.59922617e-02 3.65135621e-02 6.22804110e-02 4.43048597e-02\n",
            " 2.25018272e-02 2.96020999e-02 2.86451772e-02 5.03342715e-02\n",
            " 1.74052390e-02 9.80020237e-02 3.60064280e-02 7.97168381e-02\n",
            " 1.69046694e-02 2.97718523e-02 4.93607042e-02 2.17309996e-02\n",
            " 3.89481977e-02 2.85205243e-02 1.13737842e-01 4.14768040e-02\n",
            " 1.12178263e-02 3.64555998e-03 3.95766817e-03 4.40954710e-02\n",
            " 5.34173146e-02 2.78076446e-02 2.75802344e-02 5.89021091e-02\n",
            " 2.14147355e-02 1.00967524e-01 5.88274647e-02 4.50497063e-02\n",
            " 3.82842064e-15 2.90703303e-03 4.58374716e-22 1.39745158e-02\n",
            " 1.93723617e-03 1.64100051e-03 2.49220117e-19 1.50828899e-02\n",
            " 4.53878929e-03 2.35773779e-02 1.54616972e-02 2.34658793e-14\n",
            " 2.57828999e-02 2.84036340e-03 2.12139883e-02 9.04016325e-04\n",
            " 6.60180463e-02 5.91115255e-02 2.06238005e-23 2.51509350e-02\n",
            " 6.65454042e-26 2.36178672e-21 4.56122470e-02 5.76284676e-02\n",
            " 7.88194364e-20 3.35544840e-02 4.69942975e-02 3.66080798e-02\n",
            " 1.27361870e-02 4.43123913e-02 3.10482264e-02 6.78949591e-02\n",
            " 3.71079273e-03 4.78767872e-03 1.67278932e-02 1.47232306e-02\n",
            " 1.41686572e-02 1.06344678e-03 1.02429864e-03 2.65178923e-02\n",
            " 8.24564937e-03 1.08038359e-01 1.89794076e-08 4.30851173e-02\n",
            " 2.65707770e-02 6.48829210e+00 1.62483365e-02 1.66222208e-02\n",
            " 1.00684697e-02 1.50873815e-02 2.69762379e-02 3.80239966e-02\n",
            " 1.09714284e-02 9.27653012e-03 5.42131327e-02 4.38642281e-02\n",
            " 1.46320047e-19 4.08893024e-02 1.32274242e-02 4.30748910e-02\n",
            " 2.08994227e-02 2.15530429e-02 2.15664554e-02 2.33907351e-02\n",
            " 5.47730714e-02 8.49948938e-02 1.73253601e-02 1.97438465e-02\n",
            " 2.65691836e-02 3.10117396e-02 1.31781465e-02 3.38494343e-02\n",
            " 1.27918006e-02 2.20887502e-02 1.02321982e-02 6.31758937e-02\n",
            " 3.21212853e-02 2.40725951e-02 7.94879715e-02 1.21702166e-02\n",
            " 6.71288198e-03 2.97941662e-02 3.71442550e-02 8.59331441e-02\n",
            " 6.61497043e-19 3.89353900e-02 3.91141897e-02 1.41878091e-17\n",
            " 2.55111784e-02 6.24942621e-03 6.78642795e-02 7.68080938e-03\n",
            " 1.99869599e-02 3.33466645e-21 1.38907072e-21 3.30318821e-02\n",
            " 1.52850467e-02 1.56981615e-02]\n",
            "residual norm   = 0.26664355892462865\n"
          ]
        }
      ]
    },
    {
      "cell_type": "code",
      "execution_count": null,
      "metadata": {
        "colab": {
          "base_uri": "https://localhost:8080/"
        },
        "id": "OdXCWh3YX6LF",
        "outputId": "56d769bb-3eae-4c22-bce4-667a4eb5c9f9"
      },
      "outputs": [
        {
          "output_type": "stream",
          "name": "stdout",
          "text": [
            "r = [ 4.37498744e-02  1.27584414e-02  2.07200257e-03  2.53819315e-02\n",
            "  1.05699053e-02  4.70514355e-03 -1.77138650e-02  1.86974559e-03\n",
            " -1.77138650e-02  3.27949196e-02  1.08659683e-02  6.05772275e-03\n",
            "  1.89429915e-02  2.83478020e-02  4.27766316e-03  2.20194595e-02\n",
            "  2.24356765e-02  7.39211733e-02  7.85103501e-02  2.11606745e-02\n",
            "  1.28866262e-02  4.60884124e-02  1.15573614e-02  9.19199797e-03\n",
            "  1.59498690e-02  1.27340024e-02  1.56517270e-02  2.26984938e-02\n",
            "  3.04045735e-02  8.71984629e-03  1.04403652e-01 -3.54052344e-02\n",
            "  1.42137355e-01  2.09983141e-02  2.92847737e-02 -7.66063642e-03\n",
            "  3.05885350e-03  9.67383566e-02  4.07300741e-02  7.47734859e-03\n",
            "  2.79716609e-02  2.58376892e-02  2.42524495e-03  3.31130786e-02\n",
            "  1.52759707e-01  4.87056232e-03  8.86175352e-03  3.96878906e-02\n",
            "  8.49279223e-03  1.92397423e-03 -5.39819629e-03  3.38903901e-02\n",
            "  5.51145160e-02 -3.55314198e-03  2.21844203e-02  1.57852192e-02\n",
            "  4.45821041e-02  3.71491329e-02  6.11902146e-02  4.45139223e-02\n",
            "  2.26934413e-02  3.00804763e-02  2.95253649e-02  4.86192502e-02\n",
            "  1.70341077e-02  6.60692073e-02  6.60692073e-02  7.98430274e-02\n",
            "  1.68499435e-02  2.99955843e-02  4.94406685e-02  2.18528926e-02\n",
            "  3.91342429e-02  2.79560593e-02  7.76684083e-02  7.66044700e-02\n",
            "  1.06230446e-02  3.73076932e-03  3.97457967e-03  4.47804330e-02\n",
            "  5.39507490e-02  2.76397658e-02  2.72729719e-02  6.04908907e-02\n",
            "  5.86111738e-02  6.46445714e-02  5.85101293e-02  5.67348197e-02\n",
            " -5.24378177e-04  3.03587691e-03  1.78867462e-03  1.30170784e-02\n",
            "  4.46912734e-04  4.46912755e-04 -2.75755982e-03  2.15033616e-02\n",
            "  5.21294480e-03  1.99514500e-02  1.99514500e-02 -1.17213040e-03\n",
            "  2.85121146e-02  3.78367810e-03  2.22460425e-02  1.39155968e-03\n",
            "  6.49199252e-02  4.10091819e-02 -1.12715146e-03  2.14419032e-02\n",
            " -1.45520127e-01 -4.40016813e-03  4.80442158e-02  1.16911113e-01\n",
            " -3.25714937e-03  3.16917158e-02  4.56223650e-02  3.56108630e-02\n",
            "  1.27180847e-02  4.40010546e-02  2.79128274e-02  6.29531938e-02\n",
            "  3.66358172e-03  4.95020319e-03  1.86593406e-02  3.98108244e-03\n",
            "  1.44739726e-02  1.54721107e-03  1.54721106e-03  2.57666675e-02\n",
            "  8.44568136e-03  1.13897646e-01 -3.66306742e-03  4.47482597e-02\n",
            "  2.64999454e-02  6.48331947e+00  1.59463225e-02  1.71961677e-02\n",
            "  9.86354299e-03  8.06905472e-03  2.86911557e-02  3.85362534e-02\n",
            "  1.16288365e-02  1.18646596e-03  5.44444642e-02  8.38295514e-02\n",
            " -8.68837968e-02  8.90746356e-02  1.31779511e-02  4.52145114e-02\n",
            "  2.06924314e-02  1.95844862e-02  2.19687309e-02  2.32966702e-02\n",
            "  5.55299643e-02  8.47116759e-02  1.66762703e-02  2.00458887e-02\n",
            "  2.77274515e-02  3.08638797e-02  1.29173087e-02  3.21279344e-02\n",
            "  1.24657569e-02  2.23402795e-02  9.94436193e-03  6.70004211e-02\n",
            "  2.78224525e-02  2.33641512e-02  7.90275471e-02  1.22251947e-02\n",
            "  6.60251587e-03  3.09689786e-02  5.27413488e-02  8.28070113e-02\n",
            " -2.14173902e-02  4.13740399e-02  4.05351230e-02 -3.26220983e-02\n",
            "  2.54672397e-02  1.83295387e-04 -2.73887752e-02  2.47598309e-03\n",
            "  2.26956360e-02 -5.52790982e-03 -4.54993169e-04  3.37306837e-02\n",
            "  1.52486434e-02  1.56211490e-02]\n"
          ]
        }
      ],
      "source": [
        "import numpy as np\n",
        "\n",
        "def solve3_linear(A, b):\n",
        "    \"\"\"\n",
        "    A: 3x3 (list or np.array)\n",
        "    b: length-3 (list or np.array)\n",
        "    returns x (length-3)\n",
        "    \"\"\"\n",
        "    A = np.asarray(A, dtype=float)\n",
        "    b = np.asarray(b, dtype=float)\n",
        "    try:\n",
        "        return np.linalg.solve(A, b)            # exact if A is nonsingular\n",
        "    except np.linalg.LinAlgError:\n",
        "        # fallback: least-squares solution if singular/ill-conditioned\n",
        "        x, *_ = np.linalg.lstsq(A, b, rcond=None)\n",
        "        return x\n",
        "\n",
        "# EXAMPLE\n",
        "r = solve3_linear(true_pf_square, power_loss)\n",
        "print(\"r =\", r)   # array([r1, r2, r3])"
      ]
    },
    {
      "cell_type": "code",
      "source": [
        "np.argmax(r)"
      ],
      "metadata": {
        "colab": {
          "base_uri": "https://localhost:8080/"
        },
        "id": "sFh9dpIPGVxD",
        "outputId": "6c119db5-5c6b-4251-bdf9-925cfe0bcd55"
      },
      "execution_count": null,
      "outputs": [
        {
          "output_type": "execute_result",
          "data": {
            "text/plain": [
              "np.int64(133)"
            ]
          },
          "metadata": {},
          "execution_count": 19
        }
      ]
    },
    {
      "cell_type": "code",
      "source": [
        "true_r = branch[:,2]"
      ],
      "metadata": {
        "id": "xOimBtgBX-se"
      },
      "execution_count": null,
      "outputs": []
    },
    {
      "cell_type": "code",
      "source": [
        "x[:10]"
      ],
      "metadata": {
        "colab": {
          "base_uri": "https://localhost:8080/"
        },
        "id": "J0nfaU14Levr",
        "outputId": "0d6b2208-cb53-47fc-c58c-71b45e44c73a"
      },
      "execution_count": null,
      "outputs": [
        {
          "output_type": "execute_result",
          "data": {
            "text/plain": [
              "array([4.10362740e-02, 1.28993539e-02, 2.16403456e-03, 2.38065702e-02,\n",
              "       1.02017587e-02, 4.30116116e-03, 2.58807266e-15, 4.88507511e-04,\n",
              "       4.37439923e-15, 3.64345314e-02])"
            ]
          },
          "metadata": {},
          "execution_count": 85
        }
      ]
    },
    {
      "cell_type": "code",
      "source": [
        "true_r[:10]"
      ],
      "metadata": {
        "colab": {
          "base_uri": "https://localhost:8080/"
        },
        "id": "1rE8yJLxFhHz",
        "outputId": "40ad8b31-6df8-4448-d1b9-1c435b0f0e6b"
      },
      "execution_count": null,
      "outputs": [
        {
          "output_type": "execute_result",
          "data": {
            "text/plain": [
              "array([0.0303 , 0.0129 , 0.00176, 0.0241 , 0.0119 , 0.00459, 0.00244,\n",
              "       0.     , 0.00258, 0.0209 ])"
            ]
          },
          "metadata": {},
          "execution_count": 81
        }
      ]
    },
    {
      "cell_type": "code",
      "source": [
        "per=abs(x[np.where(true_r!=0)]-true_r[np.where(true_r!=0)])/true_r[np.where(true_r!=0)]"
      ],
      "metadata": {
        "id": "YnENnxWnIyGT"
      },
      "execution_count": null,
      "outputs": []
    },
    {
      "cell_type": "code",
      "source": [
        "from numpy import inf\n",
        "x[x == -inf] = 0\n",
        "\n",
        "np.nan_to_num(per)"
      ],
      "metadata": {
        "id": "Rb299y6YFlI9"
      },
      "execution_count": null,
      "outputs": []
    },
    {
      "cell_type": "code",
      "source": [
        "np.mean(abs(x-true_r))"
      ],
      "metadata": {
        "colab": {
          "base_uri": "https://localhost:8080/"
        },
        "id": "UFFFNJ8RGGv6",
        "outputId": "60c163dc-8405-48e2-97ce-8e1715be0f0e"
      },
      "execution_count": null,
      "outputs": [
        {
          "output_type": "execute_result",
          "data": {
            "text/plain": [
              "np.float64(0.027379692269050935)"
            ]
          },
          "metadata": {},
          "execution_count": 83
        }
      ]
    },
    {
      "cell_type": "code",
      "source": [
        "(51.307/100)**2*0.065+(45.8544/100)**2*0.025+(13.2402/100)**2*0.042"
      ],
      "metadata": {
        "colab": {
          "base_uri": "https://localhost:8080/"
        },
        "id": "rPdKxFUuZjiw",
        "outputId": "d065a459-0fdf-4c83-97fd-c9b4e44cd93b"
      },
      "execution_count": null,
      "outputs": [
        {
          "output_type": "execute_result",
          "data": {
            "text/plain": [
              "0.023103490780268"
            ]
          },
          "metadata": {},
          "execution_count": 26
        }
      ]
    },
    {
      "cell_type": "code",
      "source": [
        "dc_pf=A"
      ],
      "metadata": {
        "id": "dKiozoYfTEzy"
      },
      "execution_count": null,
      "outputs": []
    },
    {
      "cell_type": "code",
      "source": [
        "np.mean(abs(np.matmul(true_pf_square,true_r)-power_loss)/power_loss)"
      ],
      "metadata": {
        "colab": {
          "base_uri": "https://localhost:8080/"
        },
        "id": "4VzTkx3dZU3a",
        "outputId": "eac1e4f3-4e2c-4df1-da77-f760368fd8cb"
      },
      "execution_count": null,
      "outputs": [
        {
          "output_type": "execute_result",
          "data": {
            "text/plain": [
              "np.float64(0.1620999412205165)"
            ]
          },
          "metadata": {},
          "execution_count": 65
        }
      ]
    },
    {
      "cell_type": "code",
      "source": [
        "(0.042/(0.042**2+0.9**2))*0.9**2"
      ],
      "metadata": {
        "colab": {
          "base_uri": "https://localhost:8080/"
        },
        "id": "0L9S3wlhIXxW",
        "outputId": "ee99b2ce-1cff-4126-e042-cc8cdd3d6c9b"
      },
      "execution_count": null,
      "outputs": [
        {
          "output_type": "execute_result",
          "data": {
            "text/plain": [
              "0.04190873209454965"
            ]
          },
          "metadata": {},
          "execution_count": 18
        }
      ]
    }
  ]
}