{
  "nbformat": 4,
  "nbformat_minor": 0,
  "metadata": {
    "colab": {
      "provenance": [],
      "mount_file_id": "1A-lnNKwK1sDKFHt6QAuWXF85nQvq3iQg",
      "authorship_tag": "ABX9TyMFo3Q3x5EmkS9PA60YomxY",
      "include_colab_link": true
    },
    "kernelspec": {
      "name": "python3",
      "display_name": "Python 3"
    },
    "language_info": {
      "name": "python"
    }
  },
  "cells": [
    {
      "cell_type": "markdown",
      "metadata": {
        "id": "view-in-github",
        "colab_type": "text"
      },
      "source": [
        "<a href=\"https://colab.research.google.com/github/RhysWangJunfei/lmp/blob/main/LMP_paper_infer_r_118.ipynb\" target=\"_parent\"><img src=\"https://colab.research.google.com/assets/colab-badge.svg\" alt=\"Open In Colab\"/></a>"
      ]
    },
    {
      "cell_type": "code",
      "source": [
        "from scipy.io import loadmat\n",
        "# pip install scipy\n",
        "import numpy as np\n",
        "from scipy.optimize import lsq_linear\n",
        "m_list = loadmat('/content/drive/MyDrive/Postdoc/lmp/m_list118_5000.mat')['m_list']\n",
        "f_list = loadmat('/content/drive/MyDrive/Postdoc/lmp/f_list118_5000.mat')['f_list']\n",
        "H = loadmat('/content/drive/MyDrive/Postdoc/lmp/ptdf118.mat')['H']\n",
        "branch = loadmat('/content/drive/MyDrive/Postdoc/lmp/mpc_branch_118.mat')['mpc_branch_118']"
      ],
      "metadata": {
        "id": "rKXiKGGuGiLY"
      },
      "execution_count": 42,
      "outputs": []
    },
    {
      "cell_type": "code",
      "source": [
        "f_list.shape"
      ],
      "metadata": {
        "colab": {
          "base_uri": "https://localhost:8080/"
        },
        "id": "r5AEJOl6DSuy",
        "outputId": "a4b53389-d1ce-4628-9980-8e7a338dc4fe"
      },
      "execution_count": 43,
      "outputs": [
        {
          "output_type": "execute_result",
          "data": {
            "text/plain": [
              "(5000, 186)"
            ]
          },
          "metadata": {},
          "execution_count": 43
        }
      ]
    },
    {
      "cell_type": "code",
      "source": [
        "A = []\n",
        "b=[]"
      ],
      "metadata": {
        "id": "GsI8MHcn6kvk"
      },
      "execution_count": 48,
      "outputs": []
    },
    {
      "cell_type": "code",
      "source": [
        "H.shape"
      ],
      "metadata": {
        "colab": {
          "base_uri": "https://localhost:8080/"
        },
        "id": "LZxlxKLU8jLI",
        "outputId": "5ad397e0-854f-4a07-c7d4-1f4a1abb626a"
      },
      "execution_count": 45,
      "outputs": [
        {
          "output_type": "execute_result",
          "data": {
            "text/plain": [
              "(186, 118)"
            ]
          },
          "metadata": {},
          "execution_count": 45
        }
      ]
    },
    {
      "cell_type": "code",
      "source": [
        "for index in range(0,118):\n",
        "  Hi = H[:,index]\n",
        "  mi = m_list[:,index]/2\n",
        "  fh = f_list[0:,:]*Hi\n",
        "  if len(A)==0:\n",
        "    A = fh\n",
        "    b = mi\n",
        "  else:\n",
        "    A = np.vstack([A,fh])\n",
        "    b = np.hstack([b,mi])"
      ],
      "metadata": {
        "id": "VoF6CDH8589b"
      },
      "execution_count": 49,
      "outputs": []
    },
    {
      "cell_type": "code",
      "source": [
        "np.asarray(b).shape"
      ],
      "metadata": {
        "colab": {
          "base_uri": "https://localhost:8080/"
        },
        "id": "9DNTfcpH6t0r",
        "outputId": "7192a0d3-b90b-4806-d987-9163d8227f67"
      },
      "execution_count": 50,
      "outputs": [
        {
          "output_type": "execute_result",
          "data": {
            "text/plain": [
              "(590000,)"
            ]
          },
          "metadata": {},
          "execution_count": 50
        }
      ]
    },
    {
      "cell_type": "code",
      "source": [
        "A=A/100\n",
        "res = lsq_linear(A, b, bounds=(0.0, np.inf))\n",
        "x = res.x\n",
        "print(\"x (nonnegative) =\", x)\n",
        "print(\"residual norm   =\", np.linalg.norm(A@x - b))"
      ],
      "metadata": {
        "colab": {
          "base_uri": "https://localhost:8080/"
        },
        "id": "jwFgz1MpEgoy",
        "outputId": "63215c29-38ff-4ef8-887e-2d1515f7d64f"
      },
      "execution_count": 51,
      "outputs": [
        {
          "output_type": "stream",
          "name": "stdout",
          "text": [
            "x (nonnegative) = [3.06665598e-02 1.32682522e-02 1.64103307e-03 2.40098035e-02\n",
            " 1.15216685e-02 4.52294026e-03 2.23319555e-03 1.23312044e-04\n",
            " 2.29180608e-03 1.99964570e-02 2.02553098e-02 5.73027022e-03\n",
            " 1.88622581e-02 5.19149568e-02 8.35870316e-03 2.25579279e-02\n",
            " 2.18002215e-02 8.50833899e-02 6.61411212e-02 2.02450802e-02\n",
            " 1.27513517e-02 4.60963200e-02 1.18343990e-02 1.08220151e-02\n",
            " 2.58840368e-02 1.31154720e-02 1.88693942e-02 2.16267159e-02\n",
            " 3.47866441e-02 1.12487277e-02 1.52789317e-02 1.73569088e-04\n",
            " 2.91272356e-02 1.74461666e-02 1.95963483e-02 1.13704833e-04\n",
            " 2.95968463e-03 7.74613450e-03 5.02007548e-02 1.27153100e-02\n",
            " 3.38047357e-02 3.10898047e-02 2.10226404e-02 3.63395821e-02\n",
            " 1.02892931e-01 2.23676214e-03 1.04429928e-02 4.28093657e-02\n",
            " 8.62144848e-03 2.43937620e-03 1.31030115e-09 3.20577319e-02\n",
            " 5.64154424e-02 2.17855728e-03 1.95222589e-02 1.42665039e-02\n",
            " 5.32079641e-02 4.41160433e-02 6.22178702e-02 4.05181266e-02\n",
            " 2.26552152e-02 4.48161288e-02 4.44448575e-02 5.39902856e-02\n",
            " 1.88267823e-02 1.19894846e-01 2.44600003e-02 6.83165509e-02\n",
            " 1.72287074e-02 2.64429829e-02 5.03950259e-02 2.17699337e-02\n",
            " 4.44015750e-02 2.70742156e-02 1.31416572e-01 3.36974643e-02\n",
            " 1.92057923e-02 2.72434201e-03 4.93600796e-03 3.33954532e-02\n",
            " 4.67155983e-02 3.38996747e-02 2.66063218e-02 5.18414219e-02\n",
            " 6.65539847e-02 9.56246495e-02 4.46886982e-02 3.59410871e-02\n",
            " 2.87847124e-02 2.46291464e-03 1.61536425e-02 5.64921651e-03\n",
            " 2.71402880e-25 1.81022739e-03 3.02225349e-24 1.36327621e-02\n",
            " 2.61684840e-03 1.92034903e-02 1.32363186e-02 5.56992058e-02\n",
            " 2.43105352e-02 4.36437843e-20 2.03166710e-02 1.22408505e-03\n",
            " 9.20761517e-02 1.21910097e-01 8.12269900e-50 3.11828853e-02\n",
            " 9.37166804e-03 8.68790975e-03 4.60426474e-02 4.26763074e-02\n",
            " 7.49019178e-03 4.31116629e-02 4.32931118e-02 4.42778269e-02\n",
            " 1.27956527e-02 4.60392606e-02 3.28611380e-02 4.06644954e-02\n",
            " 3.72652546e-03 5.44693524e-03 1.60010874e-02 1.44469822e-02\n",
            " 1.46025861e-02 1.58806960e-03 4.75296202e-23 2.81337316e-02\n",
            " 1.02815749e-02 6.84663499e-02 3.03207118e-02 3.15854725e-02\n",
            " 3.37115234e-02 2.74675797e-02 1.75347677e-02 2.27280527e-02\n",
            " 1.24866699e-02 6.24959019e-02 1.73144421e-02 3.13615629e-02\n",
            " 1.15640031e-02 1.21074675e-02 4.73756227e-02 2.90630619e-02\n",
            " 3.03543464e-02 2.63370629e-02 1.27971986e-02 6.01337035e-02\n",
            " 1.81831384e-02 2.01517801e-02 1.57331864e-02 2.35287344e-02\n",
            " 5.13230051e-02 6.61521615e-02 1.76392385e-02 1.97892518e-02\n",
            " 1.65782971e-02 3.59397592e-02 1.62568109e-02 3.07231015e-02\n",
            " 1.29447177e-02 2.52536720e-02 1.65127883e-02 4.18995046e-02\n",
            " 4.95635146e-02 5.01658333e-02 6.22790348e-02 9.99320099e-03\n",
            " 1.32584970e-02 5.35583944e-02 2.62382705e-02 5.37087297e-02\n",
            " 1.07052117e-02 3.95019461e-02 2.85735105e-02 2.11991678e-02\n",
            " 2.50665707e-02 9.62235284e-03 6.80267868e-02 1.72392288e-02\n",
            " 1.40336494e-02 3.54327108e-03 3.00832180e-04 3.34654748e-02\n",
            " 1.60159936e-02 2.10561291e-02]\n",
            "residual norm   = 0.20528682569573403\n"
          ]
        }
      ]
    },
    {
      "cell_type": "code",
      "source": [
        "true_r = branch[:,2]\n",
        "true_r[:10]"
      ],
      "metadata": {
        "colab": {
          "base_uri": "https://localhost:8080/"
        },
        "id": "gCYrxJ3mG1BV",
        "outputId": "a2e67b1a-a299-46db-a370-ff45ea860a65"
      },
      "execution_count": 7,
      "outputs": [
        {
          "output_type": "execute_result",
          "data": {
            "text/plain": [
              "array([0.0303 , 0.0129 , 0.00176, 0.0241 , 0.0119 , 0.00459, 0.00244,\n",
              "       0.     , 0.00258, 0.0209 ])"
            ]
          },
          "metadata": {},
          "execution_count": 7
        }
      ]
    },
    {
      "cell_type": "code",
      "source": [
        "x[0:10]"
      ],
      "metadata": {
        "colab": {
          "base_uri": "https://localhost:8080/"
        },
        "id": "2gtiiwHE9K0Q",
        "outputId": "f48f594f-f178-45ea-fa11-eee8ef1f92be"
      },
      "execution_count": 8,
      "outputs": [
        {
          "output_type": "execute_result",
          "data": {
            "text/plain": [
              "array([0.0307734 , 0.01328837, 0.00169501, 0.02401614, 0.01148979,\n",
              "       0.00448847, 0.0022315 , 0.00012814, 0.00229211, 0.0207579 ])"
            ]
          },
          "metadata": {},
          "execution_count": 8
        }
      ]
    },
    {
      "cell_type": "code",
      "execution_count": 57,
      "metadata": {
        "colab": {
          "base_uri": "https://localhost:8080/"
        },
        "id": "OdXCWh3YX6LF",
        "outputId": "3b730066-6937-4c7c-dd97-32efa0896cdc"
      },
      "outputs": [
        {
          "output_type": "stream",
          "name": "stdout",
          "text": [
            "r = [ 3.06613564e-02  1.32639728e-02  1.64395639e-03  2.40156204e-02\n",
            "  1.15248763e-02  4.52688664e-03  2.23359574e-03  1.23607208e-04\n",
            "  2.29180608e-03  2.00390386e-02  2.02250782e-02  5.73047288e-03\n",
            "  1.88572326e-02  5.18341637e-02  8.37513942e-03  2.25547654e-02\n",
            "  2.18157706e-02  8.52607740e-02  6.63599980e-02  2.02779573e-02\n",
            "  1.27541906e-02  4.60072530e-02  1.18436038e-02  1.08687115e-02\n",
            "  2.58838237e-02  1.31582966e-02  1.88527800e-02  2.16193458e-02\n",
            "  3.47677893e-02  1.11861841e-02  1.52530949e-02  1.59442323e-04\n",
            "  2.91570268e-02  1.74431269e-02  1.95902934e-02  1.17167527e-04\n",
            "  2.95138623e-03  7.76102958e-03  5.02903579e-02  1.27105122e-02\n",
            "  3.37449399e-02  3.10703168e-02  2.11615335e-02  3.64489858e-02\n",
            "  1.04202070e-01  2.20024395e-03  1.05620975e-02  4.28681758e-02\n",
            "  8.63200995e-03  2.43375021e-03 -2.36873482e-05  3.21950912e-02\n",
            "  5.56141471e-02  2.15517495e-03  1.98345856e-02  1.41598120e-02\n",
            "  5.46077856e-02  4.44378592e-02  6.32179356e-02  4.05225701e-02\n",
            "  2.27450407e-02  4.43192480e-02  4.35515419e-02  5.48261835e-02\n",
            "  1.88967916e-02  7.26252716e-02  7.26252716e-02  6.88506742e-02\n",
            "  1.73523745e-02  2.64592509e-02  5.04423569e-02  2.17679264e-02\n",
            "  4.43915845e-02  2.70094122e-02  8.47490787e-02  8.35881461e-02\n",
            "  1.91374616e-02  2.70804077e-03  4.94921798e-03  3.32757177e-02\n",
            "  4.66925670e-02  3.36561076e-02  2.66672492e-02  5.23673405e-02\n",
            "  7.64250633e-02  8.42922115e-02  4.45233014e-02  3.61698798e-02\n",
            "  3.21417166e-02  2.55306650e-03  1.82715390e-02  4.60940550e-03\n",
            " -4.90847996e-04  1.56658919e-03 -1.14727202e-03  1.34617063e-02\n",
            "  2.37845755e-03  1.61162145e-02  1.61162145e-02  6.51089762e-02\n",
            "  2.39275386e-02 -1.20177409e-03  2.02733054e-02  1.27956731e-03\n",
            "  9.07937694e-02  1.31407381e-01 -3.35094521e-04  3.11282274e-02\n",
            "  6.58013008e-03  8.54822779e-03  4.62996789e-02  4.28804855e-02\n",
            "  7.73501651e-03  4.29296073e-02  4.27024188e-02  4.40805133e-02\n",
            "  1.28175948e-02  4.60632482e-02  3.31479292e-02  4.21102280e-02\n",
            "  3.72050546e-03  5.44662211e-03  1.83285142e-02  3.91049865e-03\n",
            "  1.45861959e-02  1.71456125e-03 -2.54282386e-04  2.81647301e-02\n",
            "  1.02573475e-02  6.85728971e-02  3.02048769e-02  3.16178156e-02\n",
            "  3.37127934e-02  2.74640745e-02  1.75388276e-02  2.26988233e-02\n",
            "  1.24885406e-02  9.09321025e-03  3.23327478e-02  3.13680844e-02\n",
            "  1.26704032e-02  1.29273483e-03  4.73885546e-02  2.91560059e-02\n",
            "  3.02144929e-02  2.64527775e-02  1.28111420e-02  5.99986776e-02\n",
            "  1.81698169e-02  2.00809560e-02  1.57822238e-02  2.35792748e-02\n",
            "  5.12701604e-02  6.62430523e-02  1.75950367e-02  1.97817804e-02\n",
            "  1.65517301e-02  3.56575389e-02  1.62304746e-02  3.07638189e-02\n",
            "  1.29337765e-02  2.52255675e-02  1.64763161e-02  4.20561162e-02\n",
            "  4.93051681e-02  5.02036202e-02  6.22684553e-02  9.98057780e-03\n",
            "  1.32328064e-02  5.36236480e-02  2.62350909e-02  5.36042403e-02\n",
            "  1.07022142e-02  3.94970608e-02  2.85673272e-02  2.11963502e-02\n",
            "  2.50686618e-02  9.67676864e-03  6.80226961e-02  1.72660919e-02\n",
            "  1.40286652e-02  3.54350798e-03  3.14012242e-04  3.34625114e-02\n",
            "  1.59855841e-02  2.08218732e-02]\n"
          ]
        }
      ],
      "source": [
        "import numpy as np\n",
        "\n",
        "def solve3_linear(A, b):\n",
        "    \"\"\"\n",
        "    A: 3x3 (list or np.array)\n",
        "    b: length-3 (list or np.array)\n",
        "    returns x (length-3)\n",
        "    \"\"\"\n",
        "    A = np.asarray(A, dtype=float)\n",
        "    b = np.asarray(b, dtype=float)\n",
        "    try:\n",
        "        return np.linalg.solve(A, b)            # exact if A is nonsingular\n",
        "    except np.linalg.LinAlgError:\n",
        "        # fallback: least-squares solution if singular/ill-conditioned\n",
        "        x, *_ = np.linalg.lstsq(A, b, rcond=None)\n",
        "        return x\n",
        "\n",
        "# EXAMPLE\n",
        "x = solve3_linear(A, b)\n",
        "print(\"r =\", x)   # array([r1, r2, r3])"
      ]
    },
    {
      "cell_type": "code",
      "source": [
        "np.argmax(r)"
      ],
      "metadata": {
        "colab": {
          "base_uri": "https://localhost:8080/"
        },
        "id": "sFh9dpIPGVxD",
        "outputId": "c31f1a40-4782-4f45-8399-21ae0df17c48"
      },
      "execution_count": 10,
      "outputs": [
        {
          "output_type": "execute_result",
          "data": {
            "text/plain": [
              "np.int64(105)"
            ]
          },
          "metadata": {},
          "execution_count": 10
        }
      ]
    },
    {
      "cell_type": "code",
      "source": [
        "true_r = branch[:,2]"
      ],
      "metadata": {
        "id": "xOimBtgBX-se"
      },
      "execution_count": 11,
      "outputs": []
    },
    {
      "cell_type": "code",
      "source": [
        "x[:10]"
      ],
      "metadata": {
        "colab": {
          "base_uri": "https://localhost:8080/"
        },
        "id": "J0nfaU14Levr",
        "outputId": "b0a23d6b-b9da-404f-cbfb-051860d4c395"
      },
      "execution_count": 12,
      "outputs": [
        {
          "output_type": "execute_result",
          "data": {
            "text/plain": [
              "array([0.0307734 , 0.01328837, 0.00169501, 0.02401614, 0.01148979,\n",
              "       0.00448847, 0.0022315 , 0.00012814, 0.00229211, 0.0207579 ])"
            ]
          },
          "metadata": {},
          "execution_count": 12
        }
      ]
    },
    {
      "cell_type": "code",
      "source": [
        "true_r[:10]"
      ],
      "metadata": {
        "colab": {
          "base_uri": "https://localhost:8080/"
        },
        "id": "1rE8yJLxFhHz",
        "outputId": "99ea98d6-092c-48ba-840d-5ce50add1f48"
      },
      "execution_count": 13,
      "outputs": [
        {
          "output_type": "execute_result",
          "data": {
            "text/plain": [
              "array([0.0303 , 0.0129 , 0.00176, 0.0241 , 0.0119 , 0.00459, 0.00244,\n",
              "       0.     , 0.00258, 0.0209 ])"
            ]
          },
          "metadata": {},
          "execution_count": 13
        }
      ]
    },
    {
      "cell_type": "code",
      "source": [
        "per=abs(x[np.where(true_r>0)]-true_r[np.where(true_r>0)])/true_r[np.where(true_r>0)]"
      ],
      "metadata": {
        "id": "YnENnxWnIyGT"
      },
      "execution_count": 14,
      "outputs": []
    },
    {
      "cell_type": "code",
      "source": [
        "x.shape"
      ],
      "metadata": {
        "colab": {
          "base_uri": "https://localhost:8080/"
        },
        "id": "lHZMaJQ8NFRQ",
        "outputId": "a1bf22ef-92ee-4062-a37a-e351feb4dd64"
      },
      "execution_count": 15,
      "outputs": [
        {
          "output_type": "execute_result",
          "data": {
            "text/plain": [
              "(186,)"
            ]
          },
          "metadata": {},
          "execution_count": 15
        }
      ]
    },
    {
      "cell_type": "code",
      "source": [
        "import numpy as np\n",
        "import matplotlib.pyplot as plt\n",
        "\n",
        "# inputs: arrays of true and estimated resistances, same length\n",
        "R_true = true_r[np.where(true_r>0.01)]\n",
        "R_hat  = x[np.where(true_r>0.01)]\n",
        "mean_R = (R_hat + R_true) / 2.0\n",
        "diff_R = (R_hat - R_true)             # use this for absolute (ohms) Bland–Altman\n",
        "# diff_R = 100 * (R_hat - R_true) / ((R_hat + R_true)/2)  # <- use this for % Bland–Altman\n",
        "\n",
        "bias = diff_R.mean()\n",
        "sd   = diff_R.std(ddof=1)\n",
        "loa_upper = bias + 1.96 * sd\n",
        "loa_lower = bias - 1.96 * sd\n",
        "\n",
        "plt.figure(figsize=(6,5))\n",
        "plt.scatter(mean_R, diff_R, alpha=0.8)\n",
        "plt.axhline(bias, linestyle=\"--\")\n",
        "plt.axhline(loa_upper, linestyle=\":\")\n",
        "plt.axhline(loa_lower, linestyle=\":\")\n",
        "plt.xlabel(\"Mean of True and Estimated R (ohms)\")\n",
        "plt.ylabel(\"Difference (Estimated - True) (ohms)\")\n",
        "plt.title(\"Bland–Altman Plot for Resistance Estimates\")\n",
        "plt.text(0.02, 0.95, f\"Bias={bias:.4g}\\nLoA=[{loa_lower:.4g}, {loa_upper:.4g}]\",\n",
        "         transform=plt.gca().transAxes, ha=\"left\", va=\"top\")\n",
        "plt.tight_layout()\n",
        "plt.show()\n"
      ],
      "metadata": {
        "colab": {
          "base_uri": "https://localhost:8080/",
          "height": 507
        },
        "id": "VTcnFpaNLh5L",
        "outputId": "6d4604dc-8c0f-42d8-9117-3fd2c7462879"
      },
      "execution_count": 58,
      "outputs": [
        {
          "output_type": "display_data",
          "data": {
            "text/plain": [
              "<Figure size 600x500 with 1 Axes>"
            ],
            "image/png": "[encoded data removed]"
          },
          "metadata": {}
        }
      ]
    },
    {
      "cell_type": "code",
      "source": [
        "import numpy as np\n",
        "\n",
        "def mape_rmse(x_true, x_hat, B=2000, seed=0):\n",
        "    x_true = np.asarray(x_true, float); x_hat = np.asarray(x_hat, float)\n",
        "    e = x_hat - x_true\n",
        "    # point estimates\n",
        "    rmse = np.sqrt(np.mean(e**2))\n",
        "    z = np.abs(e) / np.abs(x_true)\n",
        "    mape = 100 * np.mean(z)\n",
        "\n",
        "    n = len(x_true)\n",
        "\n",
        "    # analytic CIs\n",
        "    sz = z.std(ddof=1); sy = (e**2).std(ddof=1); ybar = (e**2).mean()\n",
        "    mape_ci_ana = (mape - 1.96*100*sz/np.sqrt(n), mape + 1.96*100*sz/np.sqrt(n))\n",
        "    rmse_ci_ana = (np.sqrt(ybar) - 1.96*np.sqrt(sy**2/(4*n*ybar)),\n",
        "                   np.sqrt(ybar) + 1.96*np.sqrt(sy**2/(4*n*ybar)))\n",
        "\n",
        "    # bootstrap CIs\n",
        "    rng = np.random.default_rng(seed)\n",
        "    idx = np.arange(n)\n",
        "    boots_mape, boots_rmse = [], []\n",
        "    for _ in range(B):\n",
        "        b = rng.choice(idx, size=n, replace=True)\n",
        "        e_b = (x_hat[b] - x_true[b])\n",
        "        boots_rmse.append(np.sqrt(np.mean(e_b**2)))\n",
        "        boots_mape.append(100*np.mean(np.abs(e_b)/np.abs(x_true[b])))\n",
        "    mape_ci_boot = (np.percentile(boots_mape, 2.5), np.percentile(boots_mape, 97.5))\n",
        "    rmse_ci_boot = (np.percentile(boots_rmse, 2.5), np.percentile(boots_rmse, 97.5))\n",
        "\n",
        "    return dict(\n",
        "        MAPE=mape, MAPE_CI_analytic=mape_ci_ana, MAPE_CI_boot=mape_ci_boot,\n",
        "        RMSE=rmse, RMSE_CI_analytic=rmse_ci_ana, RMSE_CI_boot=rmse_ci_boot\n",
        "    )\n"
      ],
      "metadata": {
        "id": "LRTXUhW8qwBL"
      },
      "execution_count": 60,
      "outputs": []
    },
    {
      "cell_type": "code",
      "source": [
        "mape_rmse(R_true,R_hat)"
      ],
      "metadata": {
        "colab": {
          "base_uri": "https://localhost:8080/"
        },
        "id": "AwikMv0o_9v3",
        "outputId": "51d8bacf-be41-4e3e-c7ab-5cfa2a7dc9b1"
      },
      "execution_count": 61,
      "outputs": [
        {
          "output_type": "execute_result",
          "data": {
            "text/plain": [
              "{'MAPE': np.float64(10.326795606915502),\n",
              " 'MAPE_CI_analytic': (np.float64(7.853411182198052),\n",
              "  np.float64(12.800180031632951)),\n",
              " 'MAPE_CI_boot': (np.float64(8.10663776407509),\n",
              "  np.float64(12.819159523535061)),\n",
              " 'RMSE': np.float64(0.007763753128929335),\n",
              " 'RMSE_CI_analytic': (np.float64(0.0053222907962084),\n",
              "  np.float64(0.01020521546165027)),\n",
              " 'RMSE_CI_boot': (np.float64(0.005240429073071511),\n",
              "  np.float64(0.010061282298075843))}"
            ]
          },
          "metadata": {},
          "execution_count": 61
        }
      ]
    },
    {
      "cell_type": "code",
      "source": [
        "0.0077637-0.005322"
      ],
      "metadata": {
        "colab": {
          "base_uri": "https://localhost:8080/"
        },
        "id": "6wz4m124Hz5H",
        "outputId": "e56ac1e8-07a7-4997-b27b-81fdebf171c1"
      },
      "execution_count": 63,
      "outputs": [
        {
          "output_type": "execute_result",
          "data": {
            "text/plain": [
              "0.0024416999999999998"
            ]
          },
          "metadata": {},
          "execution_count": 63
        }
      ]
    },
    {
      "cell_type": "code",
      "source": [
        "log_ratio = np.log(R_hat) - np.log(R_true)   # = log(R̂/R)\n",
        "mu, sigma = log_ratio.mean(), log_ratio.std(ddof=1)\n",
        "\n",
        "# Plot in percent on the log scale (approx same as % diff for small errors)\n",
        "y = 100 * log_ratio\n",
        "bias_pct = 100 * mu\n",
        "upper_pct = 100 * (mu + 1.96*sigma)\n",
        "lower_pct = 100 * (mu - 1.96*sigma)\n",
        "\n",
        "x2 = ((R_hat + R_true)/2.0)                   # you may also use np.log(x) for aesthetics\n",
        "\n",
        "plt.figure(figsize=(6,5))\n",
        "plt.scatter(x2, y, alpha=0.8)\n",
        "plt.axhline(bias_pct, linestyle=\"--\"); plt.axhline(upper_pct, linestyle=\":\"); plt.axhline(lower_pct, linestyle=\":\")\n",
        "plt.xlabel(\"Mean of True and Estimated R (ohms)\")  # consider log x-axis\n",
        "plt.ylabel(\"Log-ratio difference (≈ %)\")\n",
        "plt.title(\"Bland–Altman (Log-Ratio)\")\n",
        "# Also report multiplicative LoA (back-transformed):\n",
        "lo_mult = np.exp(mu - 1.96*sigma); hi_mult = np.exp(mu + 1.96*sigma)\n",
        "print(f\"LoA (multiplicative): ×{lo_mult:.3f} to ×{hi_mult:.3f}  \"\n",
        "      f\"(≈ {100*(lo_mult-1):.1f}% to {100*(hi_mult-1):.1f}%)\")\n",
        "plt.tight_layout(); plt.show()\n"
      ],
      "metadata": {
        "colab": {
          "base_uri": "https://localhost:8080/",
          "height": 525
        },
        "id": "QiyJ1cL9pxew",
        "outputId": "f522aff9-14c5-419e-ca4b-f4143a458c6e"
      },
      "execution_count": 35,
      "outputs": [
        {
          "output_type": "stream",
          "name": "stdout",
          "text": [
            "LoA (multiplicative): ×0.653 to ×1.493  (≈ -34.7% to 49.3%)\n"
          ]
        },
        {
          "output_type": "display_data",
          "data": {
            "text/plain": [
              "<Figure size 600x500 with 1 Axes>"
            ],
            "image/png": "[encoded data removed]"
          },
          "metadata": {}
        }
      ]
    },
    {
      "cell_type": "code",
      "source": [
        "true_r"
      ],
      "metadata": {
        "colab": {
          "base_uri": "https://localhost:8080/"
        },
        "id": "1-fNoX4xLzNr",
        "outputId": "41bdb0b9-bd00-47e0-9d03-946c53321793"
      },
      "execution_count": 20,
      "outputs": [
        {
          "output_type": "execute_result",
          "data": {
            "text/plain": [
              "array([0.0303 , 0.0129 , 0.00176, 0.0241 , 0.0119 , 0.00459, 0.00244,\n",
              "       0.     , 0.00258, 0.0209 , 0.0203 , 0.00595, 0.0187 , 0.0484 ,\n",
              "       0.00862, 0.02225, 0.0215 , 0.0744 , 0.0595 , 0.0212 , 0.0132 ,\n",
              "       0.0454 , 0.0123 , 0.01119, 0.0252 , 0.012  , 0.0183 , 0.0209 ,\n",
              "       0.0342 , 0.0135 , 0.0156 , 0.     , 0.0318 , 0.01913, 0.0237 ,\n",
              "       0.     , 0.00431, 0.00799, 0.0474 , 0.0108 , 0.0317 , 0.0298 ,\n",
              "       0.0229 , 0.038  , 0.0752 , 0.00224, 0.011  , 0.0415 , 0.00871,\n",
              "       0.00256, 0.     , 0.0321 , 0.0593 , 0.00464, 0.0184 , 0.0145 ,\n",
              "       0.0555 , 0.041  , 0.0608 , 0.0413 , 0.0224 , 0.04   , 0.038  ,\n",
              "       0.0601 , 0.0191 , 0.0715 , 0.0715 , 0.0684 , 0.0179 , 0.0267 ,\n",
              "       0.0486 , 0.0203 , 0.0405 , 0.0263 , 0.073  , 0.0869 , 0.0169 ,\n",
              "       0.00275, 0.00488, 0.0343 , 0.0474 , 0.0343 , 0.0255 , 0.0503 ,\n",
              "       0.0825 , 0.0803 , 0.04739, 0.0317 , 0.0328 , 0.00264, 0.0123 ,\n",
              "       0.00824, 0.     , 0.00172, 0.     , 0.00901, 0.00269, 0.018  ,\n",
              "       0.018  , 0.0482 , 0.0258 , 0.     , 0.0224 , 0.00138, 0.0844 ,\n",
              "       0.0985 , 0.     , 0.03   , 0.00221, 0.00882, 0.0488 , 0.0446 ,\n",
              "       0.00866, 0.0401 , 0.0428 , 0.0405 , 0.0123 , 0.0444 , 0.0309 ,\n",
              "       0.0601 , 0.00376, 0.00546, 0.017  , 0.0294 , 0.0156 , 0.00175,\n",
              "       0.     , 0.0298 , 0.0112 , 0.0625 , 0.043  , 0.0302 , 0.035  ,\n",
              "       0.02828, 0.02   , 0.0239 , 0.0139 , 0.0518 , 0.0238 , 0.0254 ,\n",
              "       0.0099 , 0.0393 , 0.0387 , 0.0258 , 0.0481 , 0.0223 , 0.0132 ,\n",
              "       0.0356 , 0.0162 , 0.0269 , 0.0183 , 0.0238 , 0.0454 , 0.0648 ,\n",
              "       0.0178 , 0.0171 , 0.0173 , 0.0397 , 0.018  , 0.0277 , 0.0123 ,\n",
              "       0.0246 , 0.016  , 0.0451 , 0.0466 , 0.0535 , 0.0605 , 0.00994,\n",
              "       0.014  , 0.053  , 0.0261 , 0.053  , 0.0105 , 0.03906, 0.0278 ,\n",
              "       0.022  , 0.0247 , 0.00913, 0.0615 , 0.0135 , 0.0164 , 0.0023 ,\n",
              "       0.00034, 0.0329 , 0.0145 , 0.0164 ])"
            ]
          },
          "metadata": {},
          "execution_count": 20
        }
      ]
    },
    {
      "cell_type": "code",
      "source": [
        "x[15*7]"
      ],
      "metadata": {
        "colab": {
          "base_uri": "https://localhost:8080/"
        },
        "id": "zeonz-Y9MScm",
        "outputId": "6d89230e-5915-4055-bfb4-79429e8cb41c"
      },
      "execution_count": 25,
      "outputs": [
        {
          "output_type": "execute_result",
          "data": {
            "text/plain": [
              "np.float64(0.11923719170961404)"
            ]
          },
          "metadata": {},
          "execution_count": 25
        }
      ]
    },
    {
      "cell_type": "code",
      "source": [
        "x"
      ],
      "metadata": {
        "colab": {
          "base_uri": "https://localhost:8080/"
        },
        "id": "WbSiDU4YMEU1",
        "outputId": "28a1aff5-ec95-47f2-f030-2d7afc8ad854"
      },
      "execution_count": 23,
      "outputs": [
        {
          "output_type": "execute_result",
          "data": {
            "text/plain": [
              "array([3.07733997e-02, 1.32883657e-02, 1.69501319e-03, 2.40161441e-02,\n",
              "       1.14897884e-02, 4.48847222e-03, 2.23149798e-03, 1.28135125e-04,\n",
              "       2.29210514e-03, 2.07579028e-02, 1.96898245e-02, 5.82392385e-03,\n",
              "       1.88252795e-02, 5.18139685e-02, 8.24459468e-03, 2.25869275e-02,\n",
              "       2.18622323e-02, 8.44253722e-02, 6.71432072e-02, 2.02390021e-02,\n",
              "       1.27275235e-02, 4.61777378e-02, 1.18363864e-02, 1.07861584e-02,\n",
              "       2.58601578e-02, 1.30319275e-02, 1.88913992e-02, 2.16441093e-02,\n",
              "       3.48326509e-02, 1.13561463e-02, 1.53134124e-02, 1.91855951e-04,\n",
              "       2.90844894e-02, 1.74377981e-02, 1.95734089e-02, 9.72435789e-05,\n",
              "       2.94755101e-03, 7.72573092e-03, 5.01120088e-02, 1.27477043e-02,\n",
              "       3.39140174e-02, 3.11668497e-02, 2.08036216e-02, 3.61733170e-02,\n",
              "       1.01714956e-01, 2.28897384e-03, 1.04375491e-02, 4.31241457e-02,\n",
              "       8.63500451e-03, 2.45170800e-03, 5.79065432e-06, 3.20892337e-02,\n",
              "       5.71121630e-02, 2.22291224e-03, 1.96451092e-02, 1.44793362e-02,\n",
              "       5.38138609e-02, 4.31629673e-02, 6.22134356e-02, 4.05505916e-02,\n",
              "       2.26975924e-02, 4.49306482e-02, 4.48351680e-02, 5.34174642e-02,\n",
              "       1.83985416e-02, 6.70075434e-02, 7.68335335e-02, 6.80996962e-02,\n",
              "       1.72142989e-02, 2.64876065e-02, 5.03664630e-02, 2.17150313e-02,\n",
              "       4.40603030e-02, 2.72418834e-02, 1.33391986e-01, 3.19610575e-02,\n",
              "       1.92450230e-02, 2.76692773e-03, 4.96259279e-03, 3.35164197e-02,\n",
              "       4.67929168e-02, 3.41612704e-02, 2.65918262e-02, 5.02337971e-02,\n",
              "       1.06978623e-01, 6.03594315e-02, 4.45174323e-02, 3.60237326e-02,\n",
              "       2.86720878e-02, 2.46974409e-03, 1.61399917e-02, 5.70906414e-03,\n",
              "       1.19826156e-21, 1.81012928e-03, 8.57784237e-23, 1.37607789e-02,\n",
              "       2.63630143e-03, 2.05330520e-02, 1.18476863e-02, 5.54954659e-02,\n",
              "       2.43066148e-02, 9.11608190e-20, 2.03242430e-02, 1.25511255e-03,\n",
              "       9.38463193e-02, 1.19237192e-01, 5.34585569e-52, 3.10706599e-02,\n",
              "       1.04993237e-02, 8.61525288e-03, 4.60920041e-02, 4.13857022e-02,\n",
              "       7.48415940e-03, 4.24708282e-02, 4.38767165e-02, 4.45054261e-02,\n",
              "       1.29189583e-02, 4.59950423e-02, 3.27572774e-02, 4.01406757e-02,\n",
              "       3.68040945e-03, 5.52881473e-03, 1.64115981e-02, 1.20265700e-02,\n",
              "       1.47282364e-02, 1.62071200e-03, 1.32705645e-20, 2.80993918e-02,\n",
              "       1.02022112e-02, 6.81235518e-02, 3.02239220e-02, 3.15358931e-02,\n",
              "       3.38348337e-02, 2.76344813e-02, 1.71328214e-02, 2.29699002e-02,\n",
              "       1.23891153e-02, 2.91045743e-02, 2.67187667e-02, 3.17884378e-02,\n",
              "       1.17298249e-02, 1.09648021e-02, 4.75728153e-02, 2.94480216e-02,\n",
              "       2.93273187e-02, 2.68363203e-02, 1.27332785e-02, 5.96514317e-02,\n",
              "       1.82467004e-02, 2.02344191e-02, 1.60429621e-02, 2.32746877e-02,\n",
              "       5.04158925e-02, 6.78261046e-02, 1.74768958e-02, 1.99399774e-02,\n",
              "       1.73609301e-02, 3.66614720e-02, 1.63729987e-02, 3.09609127e-02,\n",
              "       1.28928675e-02, 2.51834437e-02, 1.64293519e-02, 4.17537648e-02,\n",
              "       5.22503638e-02, 4.74360188e-02, 6.29689081e-02, 1.06298733e-02,\n",
              "       1.29203813e-02, 5.30865652e-02, 2.61217401e-02, 5.43258738e-02,\n",
              "       1.06531966e-02, 3.95834041e-02, 2.86049731e-02, 2.12166402e-02,\n",
              "       2.50714426e-02, 9.72760669e-03, 6.85847056e-02, 1.71954327e-02,\n",
              "       1.40604572e-02, 3.55666879e-03, 2.99788964e-04, 3.34786888e-02,\n",
              "       1.60915827e-02, 2.04738116e-02])"
            ]
          },
          "metadata": {},
          "execution_count": 23
        }
      ]
    },
    {
      "cell_type": "code",
      "source": [
        "from numpy import inf\n",
        "x[x == -inf] = 0\n",
        "\n",
        "np.nan_to_num(per)"
      ],
      "metadata": {
        "id": "Rb299y6YFlI9"
      },
      "execution_count": null,
      "outputs": []
    },
    {
      "cell_type": "code",
      "source": [
        "np.mean(per)"
      ],
      "metadata": {
        "colab": {
          "base_uri": "https://localhost:8080/"
        },
        "id": "4hRJgwzDOjHz",
        "outputId": "6bedc68b-a1be-4fb0-81a3-dbecded78e49"
      },
      "execution_count": 18,
      "outputs": [
        {
          "output_type": "execute_result",
          "data": {
            "text/plain": [
              "np.float64(0.13058476730489985)"
            ]
          },
          "metadata": {},
          "execution_count": 18
        }
      ]
    },
    {
      "cell_type": "code",
      "source": [
        "np.mean(abs(x-true_r))"
      ],
      "metadata": {
        "id": "UFFFNJ8RGGv6"
      },
      "execution_count": null,
      "outputs": []
    },
    {
      "cell_type": "code",
      "source": [
        "(51.307/100)**2*0.065+(45.8544/100)**2*0.025+(13.2402/100)**2*0.042"
      ],
      "metadata": {
        "id": "rPdKxFUuZjiw"
      },
      "execution_count": null,
      "outputs": []
    },
    {
      "cell_type": "code",
      "source": [
        "dc_pf=A"
      ],
      "metadata": {
        "id": "dKiozoYfTEzy"
      },
      "execution_count": null,
      "outputs": []
    },
    {
      "cell_type": "code",
      "source": [
        "np.mean(abs(np.matmul(x,true_r)-power_loss)/power_loss)"
      ],
      "metadata": {
        "id": "4VzTkx3dZU3a"
      },
      "execution_count": null,
      "outputs": []
    },
    {
      "cell_type": "code",
      "source": [
        "(0.042/(0.042**2+0.9**2))*0.9**2"
      ],
      "metadata": {
        "colab": {
          "base_uri": "https://localhost:8080/"
        },
        "id": "0L9S3wlhIXxW",
        "outputId": "ee99b2ce-1cff-4126-e042-cc8cdd3d6c9b"
      },
      "execution_count": null,
      "outputs": [
        {
          "output_type": "execute_result",
          "data": {
            "text/plain": [
              "0.04190873209454965"
            ]
          },
          "metadata": {},
          "execution_count": 18
        }
      ]
    }
  ]
}